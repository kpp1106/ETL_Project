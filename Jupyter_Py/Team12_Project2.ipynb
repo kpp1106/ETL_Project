{
 "cells": [
  {
   "cell_type": "markdown",
   "metadata": {},
   "source": [
    "# Stock Market Finances"
   ]
  },
  {
   "cell_type": "code",
   "execution_count": 15,
   "metadata": {},
   "outputs": [],
   "source": [
    "import os\n",
    "from config import api_key  \n",
    "import requests\n",
    "import pandas as pd\n",
    "from pprint import pprint\n",
    "from pandas.io.json import json_normalize\n",
    "import json"
   ]
  },
  {
   "cell_type": "code",
   "execution_count": 62,
   "metadata": {},
   "outputs": [
    {
     "data": {
      "text/plain": [
       "{'currencies': {'AED': 'UAE Dirham',\n",
       "  'AFN': 'Afghani',\n",
       "  'ALL': 'Lek',\n",
       "  'AMD': 'Armenian Dram',\n",
       "  'ANG': 'Netherlands Antillean Guilder',\n",
       "  'AOA': 'Kwanza',\n",
       "  'ARS': 'Argentine Peso',\n",
       "  'AUD': 'Australian Dollar',\n",
       "  'AWG': 'Aruban Florin',\n",
       "  'AZN': 'Azerbaijan Manat',\n",
       "  'BAM': 'Convertible Mark',\n",
       "  'BBD': 'Barbados Dollar',\n",
       "  'BDT': 'Taka',\n",
       "  'BGN': 'Bulgarian Lev',\n",
       "  'BHD': 'Bahraini Dinar',\n",
       "  'BIF': 'Burundi Franc',\n",
       "  'BMD': 'Bermudian Dollar',\n",
       "  'BND': 'Brunei Dollar',\n",
       "  'BOB': 'Boliviano',\n",
       "  'BRL': 'Brazilian Real',\n",
       "  'BSD': 'Bahamian Dollar',\n",
       "  'BTN': 'Ngultrum',\n",
       "  'BWP': 'Pula',\n",
       "  'BYN': 'Belarusian Ruble',\n",
       "  'BZD': 'Belize Dollar',\n",
       "  'CAD': 'Canadian Dollar',\n",
       "  'CDF': 'Congolese Franc',\n",
       "  'CHF': 'Swiss Franc',\n",
       "  'CLP': 'Chilean Peso',\n",
       "  'CNY': 'Yuan Renminbi',\n",
       "  'COP': 'Colombian Peso',\n",
       "  'CRC': 'Costa Rican Colon',\n",
       "  'CUC': 'Peso Convertible',\n",
       "  'CUP': 'Cuban Peso',\n",
       "  'CVE': 'Cabo Verde Escudo',\n",
       "  'CZK': 'Czech Koruna',\n",
       "  'DJF': 'Djibouti Franc',\n",
       "  'DKK': 'Danish Krone',\n",
       "  'DOP': 'Dominican Peso',\n",
       "  'DZD': 'Algerian Dinar',\n",
       "  'EGP': 'Egyptian Pound',\n",
       "  'ERN': 'Nakfa',\n",
       "  'ETB': 'Ethiopian Birr',\n",
       "  'EUR': 'Euro',\n",
       "  'FJD': 'Fiji Dollar',\n",
       "  'FKP': 'Falkland Islands Pound',\n",
       "  'GBP': 'Pound Sterling',\n",
       "  'GEL': 'Lari',\n",
       "  'GGP': 'Guernsey Pound',\n",
       "  'GHS': 'Ghana Cedi',\n",
       "  'GIP': 'Gibraltar Pound',\n",
       "  'GMD': 'Dalasi',\n",
       "  'GNF': 'Guinean Franc',\n",
       "  'GTQ': 'Quetzal',\n",
       "  'GYD': 'Guyana Dollar',\n",
       "  'HKD': 'Hong Kong Dollar',\n",
       "  'HNL': 'Lempira',\n",
       "  'HRK': 'Kuna',\n",
       "  'HTG': 'Gourde',\n",
       "  'HUF': 'Forint',\n",
       "  'IDR': 'Rupiah',\n",
       "  'ILS': 'New Israeli Sheqel',\n",
       "  'IMP': 'Manx pound',\n",
       "  'INR': 'Indian Rupee',\n",
       "  'IQD': 'Iraqi Dinar',\n",
       "  'IRR': 'Iranian Rial',\n",
       "  'ISK': 'Iceland Krona',\n",
       "  'JEP': 'Jersey Pound',\n",
       "  'JMD': 'Jamaican Dollar',\n",
       "  'JOD': 'Jordanian Dinar',\n",
       "  'JPY': 'Yen',\n",
       "  'KES': 'Kenyan Shilling',\n",
       "  'KGS': 'Som',\n",
       "  'KHR': 'Riel',\n",
       "  'KMF': 'Comorian Franc',\n",
       "  'KRW': 'Won',\n",
       "  'KWD': 'Kuwaiti Dinar',\n",
       "  'KYD': 'Cayman Islands Dollar',\n",
       "  'KZT': 'Tenge',\n",
       "  'LAK': 'Lao Kip',\n",
       "  'LBP': 'Lebanese Pound',\n",
       "  'LKR': 'Sri Lanka Rupee',\n",
       "  'LRD': 'Liberian Dollar',\n",
       "  'LSL': 'Loti',\n",
       "  'LYD': 'Libyan Dinar',\n",
       "  'MAD': 'Moroccan Dirham',\n",
       "  'MDL': 'Moldovan Leu',\n",
       "  'MGA': 'Malagasy Ariary',\n",
       "  'MKD': 'Denar',\n",
       "  'MMK': 'Kyat',\n",
       "  'MNT': 'Tugrik',\n",
       "  'MOP': 'Pataca',\n",
       "  'MRU': 'Ouguiya',\n",
       "  'MUR': 'Mauritius Rupee',\n",
       "  'MVR': 'Rufiyaa',\n",
       "  'MWK': 'Malawi Kwacha',\n",
       "  'MXN': 'Mexican Peso',\n",
       "  'MYR': 'Malaysian Ringgit',\n",
       "  'MZN': 'Mozambique Metical',\n",
       "  'NAD': 'Namibia Dollar',\n",
       "  'NGN': 'Naira',\n",
       "  'NIO': 'Cordoba Oro',\n",
       "  'NOK': 'Norwegian Krone',\n",
       "  'NPR': 'Nepalese Rupee',\n",
       "  'NZD': 'New Zealand Dollar',\n",
       "  'OMR': 'Rial Omani',\n",
       "  'PAB': 'Balboa',\n",
       "  'PEN': 'Sol',\n",
       "  'PGK': 'Kina',\n",
       "  'PHP': 'Philippine Peso',\n",
       "  'PKR': 'Pakistan Rupee',\n",
       "  'PLN': 'Zloty',\n",
       "  'PYG': 'Guarani',\n",
       "  'QAR': 'Qatari Rial',\n",
       "  'RON': 'Romanian Leu',\n",
       "  'RSD': 'Serbian Dinar',\n",
       "  'RUB': 'Russian Ruble',\n",
       "  'RWF': 'Rwanda Franc',\n",
       "  'SAR': 'Saudi Riyal',\n",
       "  'SBD': 'Solomon Islands Dollar',\n",
       "  'SCR': 'Seychelles Rupee',\n",
       "  'SDG': 'Sudanese Pound',\n",
       "  'SEK': 'Swedish Krona',\n",
       "  'SGD': 'Singapore Dollar',\n",
       "  'SHP': 'Saint Helena Pound',\n",
       "  'SLL': 'Leone',\n",
       "  'SOS': 'Somali Shilling',\n",
       "  'SRD': 'Surinam Dollar',\n",
       "  'SSP': 'South Sudanese Pound',\n",
       "  'STN': 'Dobra',\n",
       "  'SVC': 'El Salvador Colon',\n",
       "  'SYP': 'Syrian Pound',\n",
       "  'SZL': 'Lilangeni',\n",
       "  'THB': 'Baht',\n",
       "  'TJS': 'Somoni',\n",
       "  'TMT': 'Turkmenistan New Manat',\n",
       "  'TND': 'Tunisian Dinar',\n",
       "  'TOP': 'Pa’anga',\n",
       "  'TRY': 'Turkish Lira',\n",
       "  'TTD': 'Trinidad and Tobago Dollar',\n",
       "  'TWD': 'New Taiwan Dollar',\n",
       "  'TZS': 'Tanzanian Shilling',\n",
       "  'UAH': 'Hryvnia',\n",
       "  'UGX': 'Uganda Shilling',\n",
       "  'USD': 'US Dollar',\n",
       "  'UYU': 'Peso Uruguayo',\n",
       "  'UZS': 'Uzbekistan Sum',\n",
       "  'VES': 'Bolívar Soberano',\n",
       "  'VND': 'Dong',\n",
       "  'VUV': 'Vatu',\n",
       "  'WST': 'Tala',\n",
       "  'XAF': 'CFA Franc BEAC',\n",
       "  'XCD': 'East Caribbean Dollar',\n",
       "  'XDR': 'SDR (Special Drawing Right)',\n",
       "  'XOF': 'CFA Franc BCEAO',\n",
       "  'XPF': 'CFP Franc',\n",
       "  'YER': 'Yemeni Rial',\n",
       "  'ZAR': 'Rand',\n",
       "  'ZMW': 'Zambian Kwacha',\n",
       "  'ZWL': 'Zimbabwe Dollar'},\n",
       " 'status': 'success'}"
      ]
     },
     "execution_count": 62,
     "metadata": {},
     "output_type": "execute_result"
    }
   ],
   "source": [
    "url = \"https://api.getgeoapi.com/api/v2/currency/list?api_key=009b147444557245765ee2f8a2121dc411c0cca0\"\n",
    "#response_json = response.json()\n",
    "#print(type(response_json))\n",
    "#print(json.dumps(response_json, indent=4))\n",
    "response = requests.get(url)\n",
    "response.json()"
   ]
  },
  {
   "cell_type": "code",
   "execution_count": 63,
   "metadata": {},
   "outputs": [
    {
     "data": {
      "text/plain": [
       "dict_keys(['currencies', 'status'])"
      ]
     },
     "execution_count": 63,
     "metadata": {},
     "output_type": "execute_result"
    }
   ],
   "source": [
    "response.json().keys()"
   ]
  },
  {
   "cell_type": "code",
   "execution_count": 72,
   "metadata": {},
   "outputs": [
    {
     "ename": "ValueError",
     "evalue": "DataFrame constructor not properly called!",
     "output_type": "error",
     "traceback": [
      "\u001b[1;31m---------------------------------------------------------------------------\u001b[0m",
      "\u001b[1;31mValueError\u001b[0m                                Traceback (most recent call last)",
      "\u001b[1;32m<ipython-input-72-cc60ab6a5a64>\u001b[0m in \u001b[0;36m<module>\u001b[1;34m\u001b[0m\n\u001b[1;32m----> 1\u001b[1;33m \u001b[0mdf\u001b[0m \u001b[1;33m=\u001b[0m \u001b[0mpd\u001b[0m\u001b[1;33m.\u001b[0m\u001b[0mDataFrame\u001b[0m\u001b[1;33m(\u001b[0m\u001b[1;34m'currencies'\u001b[0m\u001b[1;33m,\u001b[0m \u001b[1;34m'status'\u001b[0m\u001b[1;33m)\u001b[0m\u001b[1;33m\u001b[0m\u001b[1;33m\u001b[0m\u001b[0m\n\u001b[0m\u001b[0;32m      2\u001b[0m \u001b[0mdf\u001b[0m\u001b[1;33m.\u001b[0m\u001b[0mhead\u001b[0m\u001b[1;33m(\u001b[0m\u001b[1;33m)\u001b[0m\u001b[1;33m\u001b[0m\u001b[1;33m\u001b[0m\u001b[0m\n",
      "\u001b[1;32m~\\anaconda3\\lib\\site-packages\\pandas\\core\\frame.py\u001b[0m in \u001b[0;36m__init__\u001b[1;34m(self, data, index, columns, dtype, copy)\u001b[0m\n\u001b[0;32m    507\u001b[0m                 )\n\u001b[0;32m    508\u001b[0m             \u001b[1;32melse\u001b[0m\u001b[1;33m:\u001b[0m\u001b[1;33m\u001b[0m\u001b[1;33m\u001b[0m\u001b[0m\n\u001b[1;32m--> 509\u001b[1;33m                 \u001b[1;32mraise\u001b[0m \u001b[0mValueError\u001b[0m\u001b[1;33m(\u001b[0m\u001b[1;34m\"DataFrame constructor not properly called!\"\u001b[0m\u001b[1;33m)\u001b[0m\u001b[1;33m\u001b[0m\u001b[1;33m\u001b[0m\u001b[0m\n\u001b[0m\u001b[0;32m    510\u001b[0m \u001b[1;33m\u001b[0m\u001b[0m\n\u001b[0;32m    511\u001b[0m         \u001b[0mNDFrame\u001b[0m\u001b[1;33m.\u001b[0m\u001b[0m__init__\u001b[0m\u001b[1;33m(\u001b[0m\u001b[0mself\u001b[0m\u001b[1;33m,\u001b[0m \u001b[0mmgr\u001b[0m\u001b[1;33m,\u001b[0m \u001b[0mfastpath\u001b[0m\u001b[1;33m=\u001b[0m\u001b[1;32mTrue\u001b[0m\u001b[1;33m)\u001b[0m\u001b[1;33m\u001b[0m\u001b[1;33m\u001b[0m\u001b[0m\n",
      "\u001b[1;31mValueError\u001b[0m: DataFrame constructor not properly called!"
     ]
    }
   ],
   "source": [
    "df = pd.DataFrame('currencies', 'status')\n",
    "df.head()"
   ]
  },
  {
   "cell_type": "code",
   "execution_count": null,
   "metadata": {},
   "outputs": [],
   "source": []
  },
  {
   "cell_type": "code",
   "execution_count": null,
   "metadata": {},
   "outputs": [],
   "source": []
  }
 ],
 "metadata": {
  "kernelspec": {
   "display_name": "Python 3",
   "language": "python",
   "name": "python3"
  },
  "language_info": {
   "codemirror_mode": {
    "name": "ipython",
    "version": 3
   },
   "file_extension": ".py",
   "mimetype": "text/x-python",
   "name": "python",
   "nbconvert_exporter": "python",
   "pygments_lexer": "ipython3",
   "version": "3.8.3"
  }
 },
 "nbformat": 4,
 "nbformat_minor": 4
}
